{
 "cells": [
  {
   "cell_type": "code",
   "execution_count": null,
   "metadata": {},
   "outputs": [],
   "source": [
    "print(\"hello\")"
   ]
  },
  {
   "cell_type": "code",
   "execution_count": 1,
   "metadata": {},
   "outputs": [],
   "source": [
    "from utils.Scrapper import IkeaScrapper, Ikea_Furniture, Scrapper\n",
    "import time\n",
    "\n",
    "\n",
    "target1 = Scrapper()\n",
    "#target2 = IkeaScrapper()\n",
    "#target3 = Ikea_Furniture\n",
    "\n",
    "#target = Ikea_Furniture()\n",
    "#target.ikea_living.navigate_Ikea_living_rooms_page()\n",
    "time.sleep(1)\n",
    "#target.ikea_living.display_living_room_products()\n",
    "\n",
    "\n",
    "\n",
    "#target.ikea_living.navigate_sofa_beds()\n"
   ]
  },
  {
   "cell_type": "code",
   "execution_count": 2,
   "metadata": {},
   "outputs": [],
   "source": [
    "from selenium import webdriver\n",
    "from selenium.webdriver.common.keys import Keys\n",
    "from selenium.webdriver.common.by import By\n",
    "from selenium.webdriver.support.ui import WebDriverWait\n",
    "from selenium.webdriver.support import expected_conditions as EC\n",
    "from selenium.webdriver.common.action_chains import ActionChains\n",
    "from selenium.webdriver.common.keys import Keys\n",
    "from webdriver_manager.chrome import ChromeDriverManager\n",
    "import pandas as pd\n",
    "import requests\n",
    "import urllib.request\n",
    "import os\n",
    "from uuid import uuid4\n",
    "from datetime import datetime\n",
    "import json\n",
    "\n",
    "\n",
    "\n",
    "\n",
    "\n",
    "accept_cookies = target1.driver.find_element(By.XPATH, '//button[@id=\"onetrust-accept-btn-handler\"]')\n",
    "accept_cookies.click()"
   ]
  },
  {
   "cell_type": "code",
   "execution_count": null,
   "metadata": {},
   "outputs": [],
   "source": []
  },
  {
   "cell_type": "code",
   "execution_count": 3,
   "metadata": {},
   "outputs": [
    {
     "name": "stdout",
     "output_type": "stream",
     "text": [
      "['https://www.ikea.com/gb/en/rooms/bedroom/', 'https://www.ikea.com/gb/en/rooms/living-room/', 'https://www.ikea.com/gb/en/rooms/kitchen/', 'https://www.ikea.com/gb/en/rooms/dining/', 'https://www.ikea.com/gb/en/rooms/bathroom/', 'https://www.ikea.com/gb/en/rooms/childrens-room/', 'https://www.ikea.com/gb/en/rooms/home-office/', 'https://www.ikea.com/gb/en/rooms/hallway/', 'https://www.ikea.com/gb/en/rooms/outdoor/', 'https://www.ikea.com/gb/en/ikea-business/']\n",
      "checking....1\n",
      "https://www.ikea.com/gb/en/rooms/bedroom/\n",
      "checking..2\n",
      "https://www.ikea.com/gb/en/rooms/living-room/\n"
     ]
    }
   ],
   "source": [
    "rooms = target1.site_pages_links(xpath_category='//ul[@data-tracking-label=\"rooms\"]',item_cat_tag='./li')\n",
    "all_rooms = target1.get_webpages_links(rooms)\n",
    "print(\"checking....1\")\n",
    "bedroom = all_rooms[0]\n",
    "print(bedroom)\n",
    "print(\"checking..2\")\n",
    "living_room = all_rooms[1]\n",
    "print(living_room)\n",
    "\n",
    "\n",
    "bedroom = all_rooms[0]\n",
    "\n",
    "target1.driver.get(bedroom)\n",
    "\n",
    "\n",
    "#for link in all_rooms:\n",
    "    #target1.driver.get(link)\n",
    "\n",
    "    #break\n",
    "\n",
    "       \n"
   ]
  },
  {
   "cell_type": "code",
   "execution_count": null,
   "metadata": {},
   "outputs": [],
   "source": []
  },
  {
   "cell_type": "code",
   "execution_count": 4,
   "metadata": {},
   "outputs": [
    {
     "name": "stdout",
     "output_type": "stream",
     "text": [
      "['https://www.ikea.com/gb/en/cat/kitchen-systems-ka003/', 'https://www.ikea.com/gb/en/cat/kitchen-appliances-ka002/', 'https://www.ikea.com/gb/en/cat/kitchen-storage-organisation-24255/', 'https://www.ikea.com/gb/en/cat/kitchen-taps-sinks-24261/', 'https://www.ikea.com/gb/en/cat/kitchen-worktops-24264/', 'https://www.ikea.com/gb/en/cat/splashbacks-wall-panels-19121/', 'https://www.ikea.com/gb/en/cat/knobs-handles-16298/', 'https://www.ikea.com/gb/en/cat/kitchen-lighting-16282/', 'https://www.ikea.com/gb/en/cat/kitchen-islands-trolleys-10471/', 'https://www.ikea.com/gb/en/cat/step-stools-step-ladders-20611/', 'https://www.ikea.com/gb/en/cat/kitchen-wall-storage-organiser-20676/', 'https://www.ikea.com/gb/en/cat/cookware-tableware-kt001/']\n"
     ]
    }
   ],
   "source": [
    "\n",
    "bed_room_stuff = target1.driver.find_element(By.XPATH, '//*[@id=\"hnf-carousel__top-navigation-products\"]')\n",
    "\n",
    "sites = bed_room_stuff.find_elements(By.TAG_NAME, 'a')\n",
    "lists= []\n",
    "for site in sites:\n",
    "    mysite = site.get_attribute('href')\n",
    "    lists.append(mysite)\n",
    "print(lists)\n",
    "for link in lists:\n",
    "    target1.driver.get(link)\n",
    "    #target1.driver.s\n",
    "    break"
   ]
  },
  {
   "cell_type": "code",
   "execution_count": null,
   "metadata": {},
   "outputs": [],
   "source": []
  },
  {
   "cell_type": "code",
   "execution_count": 11,
   "metadata": {},
   "outputs": [
    {
     "name": "stdout",
     "output_type": "stream",
     "text": [
      "[]\n",
      "[]\n"
     ]
    }
   ],
   "source": [
    "x = target1.site_pages_links(xpath_category='//div[@data-pub-id=\"45e221e0-357b-11ec-a8f6-0b949a082dfb\"]',item_cat_tag='./a')\n",
    "print(x)\n",
    "product_lists= []\n",
    "for product in x:\n",
    "\n",
    "    product_link = product.get_attribute('href')\n",
    "    product_lists.append(product_link)\n",
    "    print(\"--------------------------------------\\tROOM PRODUCTS LINKS--------------------------\")\n",
    "    print(\"\")\n",
    "print(product_lists)\n",
    "    #return product_lists\n"
   ]
  },
  {
   "cell_type": "code",
   "execution_count": 12,
   "metadata": {},
   "outputs": [
    {
     "name": "stdout",
     "output_type": "stream",
     "text": [
      "['https://www.ikea.com/gb/en/cat/beds-bm003/', 'https://www.ikea.com/gb/en/cat/mattresses-bm002/', 'https://www.ikea.com/gb/en/cat/wardrobes-19053/', 'https://www.ikea.com/gb/en/cat/chest-of-drawers-10451/', 'https://www.ikea.com/gb/en/cat/bedside-tables-20656/', 'https://www.ikea.com/gb/en/cat/mattress-toppers-24826/', 'https://www.ikea.com/gb/en/cat/under-bed-storage-19059/', 'https://www.ikea.com/gb/en/cat/mirrors-20489/', 'https://www.ikea.com/gb/en/cat/bedding-tl004/', 'https://www.ikea.com/gb/en/cat/duvet-cover-sets-10680/', 'https://www.ikea.com/gb/en/cat/blankets-throws-20528/', 'https://www.ikea.com/gb/en/cat/curtains-blinds-tl002/', 'https://www.ikea.com/gb/en/cat/lighting-li001/', 'https://www.ikea.com/gb/en/rooms/bedroom/#']\n"
     ]
    }
   ],
   "source": [
    "\n",
    "bed_room_stuff = target1.driver.find_element(By.XPATH, '//div[@data-pub-id=\"45e221e0-357b-11ec-a8f6-0b949a082dfb\"]')\n",
    "\n",
    "sites = bed_room_stuff.find_elements(By.TAG_NAME, 'a')\n",
    "lists= []\n",
    "for site in sites:\n",
    "    mysite = site.get_attribute('href')\n",
    "    lists.append(mysite)\n",
    "print(lists)\n",
    "#for link in lists:\n",
    "    #target1.driver.get(link)\n",
    "    #target1.driver.s\n",
    "   # break\n",
    "\n"
   ]
  },
  {
   "cell_type": "code",
   "execution_count": null,
   "metadata": {},
   "outputs": [],
   "source": []
  },
  {
   "cell_type": "code",
   "execution_count": null,
   "metadata": {},
   "outputs": [],
   "source": [
    "def save_file(\n",
    "        self, \n",
    "        product_code,\n",
    "        product_data_dict, \n",
    "        parent_dir, \n",
    "        product_image_link,\n",
    "        count\n",
    "    ):\n",
    "        \n",
    "        # created the date variable and assign it as image code name\n",
    "        date = datetime.now()\n",
    "        date_collected = date.strftime(\"%Y-%m-%d %H:%M:%S\")\n",
    "        \n",
    "        if not os.path.exists(product_code):\n",
    "            \n",
    "            os.chdir(parent_dir)\n",
    "            time.sleep(1)\n",
    "            os.makedirs(f\"{product_code}/images\")\n",
    "    \n",
    "        with open(f\"{product_code}/data.json\", \"w\") as outfile:\n",
    "            \n",
    "            json.dump(product_data_dict, outfile, indent=4)\n",
    "            \n",
    "            self.download_product_images(product_image_link, f\"{product_code}/images/{date_collected}_{product_code}_{count}.jpg\")\n",
    "            \n"
   ]
  },
  {
   "cell_type": "code",
   "execution_count": null,
   "metadata": {},
   "outputs": [],
   "source": []
  },
  {
   "cell_type": "code",
   "execution_count": null,
   "metadata": {},
   "outputs": [],
   "source": [
    "from operator import index\n",
    "\n",
    "def save_file(product_code,product_data,file_path):\n",
    "        \n",
    "        product_code = product_code\n",
    "        product_data = product_data      \n",
    "        #path = '/home/juc-lesaint/Desktop/data-collection-pipeline487/raw_data'\n",
    "        \n",
    "        if not os.path.exists(product_code):\n",
    "            os.chdir(file_path)\n",
    "            time.sleep(1)\n",
    "            os.mkdir(product_code)\n",
    "        with open(f\"{product_code}/data.json\", \"w\") as outfile:\n",
    "            json.dump(product_data, outfile, indent=4)\n",
    "                  \n",
    "'''\n",
    "\n",
    "def download_image(img_url,img_folder):\n",
    "\n",
    "    product_img = requests.get(img_url).content\n",
    "    #image_data = requests.get(img_url).content\n",
    "\n",
    "    with open(img_folder, 'wb') as img_writer:\n",
    "        img_writer.write(product_image)\n",
    "\n",
    "'''\n",
    "\n",
    "def create_dir(dir_path: str,folder_name):\n",
    "        '''\n",
    "        Create a directory in a given file path\n",
    "\n",
    "        Parameters:\n",
    "        dir_path: directory path to create the folder\n",
    "        folder_name: the name of the folder to be created\n",
    "        '''\n",
    "        folder_path = os.path.join(dir_path, folder_name)\n",
    "        try:\n",
    "            if not os.path.exists(folder_path):\n",
    "                \n",
    "                os.mkdir(folder_path)\n",
    "        except:\n",
    "            OSError(\"Folder exist...please create new folder\")\n",
    "\n",
    "            \n",
    "        #os.mkdir(path)\n",
    "\n",
    "\n",
    "items_container_path = target1.driver.find_element(By.XPATH, '//div[@class=\"plp-product-list__products\"]')\n",
    "\n",
    "item_path = items_container_path.find_elements(By.XPATH, './div')\n",
    "mylist = []\n",
    "path_dir= '/home/juc-lesaint/Desktop/data-collection-pipeline487/'\n",
    "dir_name = \"P_stuff5\"\n",
    "\n",
    "create_dir(path_dir,dir_name)\n",
    "time.sleep(1)\n",
    "#products_id =[]\n",
    "images = []\n",
    "products_dict = {\n",
    "    'Time scrapped':[],\n",
    "    'Product Code':[],\n",
    "    'Product Brand': [],\n",
    "    'Product Description': [],\n",
    "    'Product Price(£)': [],\n",
    "    'Product Images':[]\n",
    "    }\n",
    "# getting the dict of all products in a page\n",
    "for item in item_path:\n",
    "    #data_list = item.find_elements(By.XPATH, '//div[@class=\"pip-compact-price-package\"]')\n",
    "    id_lists =  item.find_elements(By.XPATH, '//div[@class=\"pip-product-compact\"]')\n",
    "for product_ref in id_lists:\n",
    "    date = datetime.now()\n",
    "    date_collected = date.strftime(\"%Y-%m-%d %H:%M:%S\")\n",
    "    products_dict['Time scrapped'].append(date_collected)\n",
    "    product_code = product_ref.get_attribute(\"data-product-number\")\n",
    "    products_dict['Product Code'].append(product_code)      \n",
    "        #print(product_code)\n",
    "    product_name = product_ref.get_attribute(\"data-product-name\")\n",
    "    products_dict['Product Brand'].append(product_name)\n",
    "        #print(product_name)\n",
    "    product_price = product_ref.get_attribute(\"data-price\")\n",
    "    products_dict['Product Price(£)'].append(product_price)\n",
    "        #print(product_price)\n",
    "    #for prod_img in range(len(products_dict)):\n",
    "        #products_dict[prod_img].append(images[prod_img])\n",
    "   \n",
    "    product_description = product_ref.find_element(By.TAG_NAME, \"a\")\n",
    "    description = product_description.get_attribute(\"aria-label\")\n",
    "    #print(description)\n",
    "    products_dict['Product Description'].append(description)\n",
    "    #print(\"------------------------\")\n",
    "    \n",
    "    product_image = product_ref.find_element(By.TAG_NAME, \"img\")\n",
    "    image = product_image.get_attribute(\"src\")\n",
    "    products_dict['Product Images'].append(image)\n",
    "#print(\"Page dict\")\n",
    "#print(products_dict)\n",
    "\n",
    "   #product_frame = pd.DataFrame.from_dict(products_dict,orient=\"index\")\n",
    "df = pd.DataFrame()\n",
    "lists =[]\n",
    "count =0\n",
    "for index in range(len(products_dict['Product Code'])):\n",
    "    product_data = {\n",
    "\n",
    "        'Time scrapped': products_dict['Time scrapped'][index],\n",
    "        'Product Code': products_dict['Product Code'][index],\n",
    "        'Product Brand': products_dict['Product Brand'][index],\n",
    "        'Product Description':products_dict['Product Description'][index],\n",
    "        'Product Price(£)': products_dict['Product Price(£)'][index],\n",
    "        'Product Images':products_dict['Product Images'][index]   \n",
    "}   \n",
    "    count+=1\n",
    "    df = df.append(product_data, ignore_index=True)\n",
    "    #print(product_data['Product Images'])\n",
    "\n",
    "    path = '/home/juc-lesaint/Desktop/data-collection-pipeline487/P_stuff5'\n",
    "\n",
    "    prod_file_data = str(product_data['Product Code'])\n",
    "    #data_image = product_data['Product Images']\n",
    "\n",
    "    save_file(prod_file_data,product_data,path)\n",
    "    #time.sleep(1)\n",
    "\n",
    "    \n",
    "    \n",
    "\n",
    "    #download_image(data_image, f\"P_stuff2/{str(product_data['Time scrapped'])}_{str(product_data['Product Code'])}_{count}.jpg\")\n",
    "\n",
    "    \n",
    "\n",
    "    #product_frame = pd.DataFrame.from_dict(product_data,orient=\"index\")\n",
    "    print(df)\n",
    "\n",
    "\n",
    "\n"
   ]
  },
  {
   "cell_type": "code",
   "execution_count": null,
   "metadata": {},
   "outputs": [],
   "source": [
    "def display_images(image_path:str, image_tag:str):\n",
    "    \n",
    "\n",
    "    '''\n",
    "        Collecting images links for each page and display the links\n",
    "\n",
    "        Parameters:\n",
    "        ------------------------------------------\n",
    "        image_path: the path of images sources\n",
    "        image_source: the source link of the image\n",
    "\n",
    "    '''\n",
    "\n",
    "    images_link = target1.site_pages_links(image_path, image_tag)\n",
    "    images_list = []\n",
    "\n",
    "    for products_imgs in images_link:\n",
    "        images = products_imgs.find_elements(By.XPATH, '//img[@class=\"pip-image\"]')\n",
    "            \n",
    "        for image_src in images:\n",
    "            images = image_src.get_attribute('src')\n",
    "            images_list.append(images)\n",
    "        \n",
    "        print(\"=============PRODUCTS IMAGES URLS===========================\")\n",
    "        print(\"\")\n",
    "        print(\"\\tThe total number of images links is: {}\".format(len(images_list)))\n",
    "        print(images_list)\n",
    "\n",
    "\n",
    "display_images(image_path='//div[@class=\"plp-product-list__products\"]',image_tag='./div')\n",
    "\n",
    "    "
   ]
  },
  {
   "cell_type": "code",
   "execution_count": null,
   "metadata": {},
   "outputs": [],
   "source": [
    "check = target1.driver.find_element(By.XPATH, '//ul[@data-tracking-label=\"rooms\"]')\n",
    "check.click()"
   ]
  },
  {
   "cell_type": "code",
   "execution_count": null,
   "metadata": {},
   "outputs": [],
   "source": []
  },
  {
   "cell_type": "code",
   "execution_count": null,
   "metadata": {},
   "outputs": [],
   "source": [
    "living_stuff = target1.driver.find_element(By.XPATH, '//*[@id=\"5a386581-e41e-11ec-aa30-f1ff1fc0055d\"]/div/div/div[1]/nav')\n",
    "sites = living_stuff.find_elements(By.TAG_NAME, 'a')\n",
    "lists= []\n",
    "for site in sites:\n",
    "    mysite = site.get_attribute('href')\n",
    "    lists.append(mysite)\n",
    "print(lists)\n",
    "for link in lists:\n",
    "    target1.driver.get(link)\n",
    "    break\n",
    "\n",
    "\n"
   ]
  },
  {
   "cell_type": "code",
   "execution_count": null,
   "metadata": {},
   "outputs": [],
   "source": [
    "target1.visit_product_page(prod_xpath='//a[@data-tracking-label=\"rooms/living\"]')"
   ]
  }
 ],
 "metadata": {
  "kernelspec": {
   "display_name": "pipelineproj",
   "language": "python",
   "name": "python3"
  },
  "language_info": {
   "codemirror_mode": {
    "name": "ipython",
    "version": 3
   },
   "file_extension": ".py",
   "mimetype": "text/x-python",
   "name": "python",
   "nbconvert_exporter": "python",
   "pygments_lexer": "ipython3",
   "version": "3.10.6"
  },
  "orig_nbformat": 4,
  "vscode": {
   "interpreter": {
    "hash": "7a898363b9a8520275054d8f1adecf87bf6d9c52298a44091dd4a5fae49feb88"
   }
  }
 },
 "nbformat": 4,
 "nbformat_minor": 2
}
