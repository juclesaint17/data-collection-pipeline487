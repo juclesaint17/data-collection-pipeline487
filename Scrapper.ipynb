{
 "cells": [
  {
   "cell_type": "code",
   "execution_count": 1,
   "metadata": {},
   "outputs": [
    {
     "name": "stdout",
     "output_type": "stream",
     "text": [
      "--- IKEA available navigation pages links---\n"
     ]
    },
    {
     "data": {
      "text/plain": [
       "['https://www.ikea.com/gb/en/cat/product-products/',\n",
       " 'https://www.ikea.com/gb/en/rooms/',\n",
       " 'https://www.ikea.com/gb/en/offers/?itm_content=Nav&itm_element=Top&itm_campaign=offers',\n",
       " 'https://www.ikea.com/gb/en/cat/everyday-essentials-700313/?itm_content=Nav&itm_element=Top&itm_campaign=EE']"
      ]
     },
     "execution_count": 1,
     "metadata": {},
     "output_type": "execute_result"
    }
   ],
   "source": [
    "from utils.Scrapper import IkeaScrapper,Ikea_Furniture\n",
    "import time\n",
    "\n",
    "target = IkeaScrapper()\n",
    "target.accept_cookies()\n",
    "time.sleep(1)\n",
    "#target.navigate_Ikea_furniture_page()\n",
    "#time.sleep(1)\n",
    "#target.navigate_Ikea_kichen_page()\n",
    "#target.display_Ikea_products_links()\n",
    "target.display_Ikea_nav_links()\n",
    "#time.sleep(7)\n",
    "\n",
    "#target2 = Ikea_Furniture()\n",
    "#time.sleep(1)\n",
    "#target2.navigate_Ikea_furniture_page()\n",
    "#time.sleep(1)\n",
    "#target2.display_furniture_categories()\n",
    "#target.display_ikea_top_category()\n",
    "#target.display_product_site_links()\n",
    "#target.search_product_category(\"Furniture\")\n",
    "#time.sleep(2)\n",
    "#target.close_dialog_windows()\n",
    "#time.sleep(1)\n",
    "#target.get_product()\n",
    "\n",
    "    "
   ]
  },
  {
   "cell_type": "code",
   "execution_count": 2,
   "metadata": {},
   "outputs": [],
   "source": [
    "\n",
    "from selenium import webdriver\n",
    "from selenium.webdriver.common.keys import Keys\n",
    "from selenium.webdriver.common.by import By\n",
    "from selenium.webdriver.support.ui import WebDriverWait\n",
    "from selenium.webdriver.support import expected_conditions as EC\n",
    "from selenium.webdriver.common.action_chains import ActionChains\n",
    "from selenium.webdriver.common.keys import Keys\n",
    "from webdriver_manager.chrome import ChromeDriverManager\n",
    "\n",
    "accept_cookies = target.driver.find_element(By.XPATH, '//button[@id=\"onetrust-accept-btn-handler\"]')\n",
    "accept_cookies.click()"
   ]
  },
  {
   "cell_type": "code",
   "execution_count": 6,
   "metadata": {},
   "outputs": [
    {
     "name": "stdout",
     "output_type": "stream",
     "text": [
      "<selenium.webdriver.remote.webelement.WebElement (session=\"60fc6b89388b3a86187dd476aa55a53d\", element=\"629121de-d44a-48e9-b4b1-dd447cfa8122\")>\n",
      "[]\n",
      "[]\n"
     ]
    }
   ],
   "source": [
    "page_nav = target2.driver.find_element(By.XPATH, '//nav[@role=\"navigation\"]')\n",
    "print(page_nav)\n",
    "navs= page_nav.find_elements(By.XPATH,'data-tracking-label')\n",
    "nav_list =[]\n",
    "print(navs)\n",
    "for link_nav in navs:\n",
    "    sub_nav = link_nav.find_element(By.TAG_NAME, 'a')\n",
    "    access_link = sub_nav.get_attribute('href')\n",
    "    nav_list.append(access_link)\n",
    "    \n",
    "print(nav_list)\n"
   ]
  },
  {
   "cell_type": "code",
   "execution_count": null,
   "metadata": {},
   "outputs": [],
   "source": []
  },
  {
   "cell_type": "code",
   "execution_count": null,
   "metadata": {},
   "outputs": [],
   "source": []
  },
  {
   "cell_type": "code",
   "execution_count": 3,
   "metadata": {},
   "outputs": [
    {
     "ename": "NoSuchElementException",
     "evalue": "Message: no such element: Unable to locate element: {\"method\":\"xpath\",\"selector\":\"//*[@id=\"search-results\"]/div[1]\"}\n  (Session info: chrome=104.0.5112.101)\nStacktrace:\n#0 0x5575741cd403 <unknown>\n#1 0x557573fd3778 <unknown>\n#2 0x55757400ac87 <unknown>\n#3 0x55757400ae51 <unknown>\n#4 0x55757403df24 <unknown>\n#5 0x557574028a2d <unknown>\n#6 0x55757403bc74 <unknown>\n#7 0x5575740288f3 <unknown>\n#8 0x557573ffe0d8 <unknown>\n#9 0x557573fff205 <unknown>\n#10 0x557574214e3d <unknown>\n#11 0x557574217db6 <unknown>\n#12 0x5575741fe13e <unknown>\n#13 0x5575742189b5 <unknown>\n#14 0x5575741f2970 <unknown>\n#15 0x557574235228 <unknown>\n#16 0x5575742353bf <unknown>\n#17 0x55757424fabe <unknown>\n#18 0x7f7e381f7ea7 <unknown>\n",
     "output_type": "error",
     "traceback": [
      "\u001b[0;31m---------------------------------------------------------------------------\u001b[0m",
      "\u001b[0;31mNoSuchElementException\u001b[0m                    Traceback (most recent call last)",
      "\u001b[1;32m/home/juc-lesaint/Desktop/AIcore_PipeLine/utils/Scrapper.ipynb Cell 3\u001b[0m in \u001b[0;36m<cell line: 1>\u001b[0;34m()\u001b[0m\n\u001b[0;32m----> <a href='vscode-notebook-cell:/home/juc-lesaint/Desktop/AIcore_PipeLine/utils/Scrapper.ipynb#W2sZmlsZQ%3D%3D?line=0'>1</a>\u001b[0m products\u001b[39m=\u001b[39m target\u001b[39m.\u001b[39;49mdriver\u001b[39m.\u001b[39;49mfind_element(By\u001b[39m.\u001b[39;49mXPATH, \u001b[39m'\u001b[39;49m\u001b[39m//*[@id=\u001b[39;49m\u001b[39m\"\u001b[39;49m\u001b[39msearch-results\u001b[39;49m\u001b[39m\"\u001b[39;49m\u001b[39m]/div[1]\u001b[39;49m\u001b[39m'\u001b[39;49m)\n\u001b[1;32m      <a href='vscode-notebook-cell:/home/juc-lesaint/Desktop/AIcore_PipeLine/utils/Scrapper.ipynb#W2sZmlsZQ%3D%3D?line=1'>2</a>\u001b[0m a_tag \u001b[39m=\u001b[39m products\u001b[39m.\u001b[39mfind_element(By\u001b[39m.\u001b[39mTAG_NAME, \u001b[39m'\u001b[39m\u001b[39ma\u001b[39m\u001b[39m'\u001b[39m)\n\u001b[1;32m      <a href='vscode-notebook-cell:/home/juc-lesaint/Desktop/AIcore_PipeLine/utils/Scrapper.ipynb#W2sZmlsZQ%3D%3D?line=2'>3</a>\u001b[0m link \u001b[39m=\u001b[39m a_tag\u001b[39m.\u001b[39mget_attribute(\u001b[39m'\u001b[39m\u001b[39mhref\u001b[39m\u001b[39m'\u001b[39m)\n",
      "File \u001b[0;32m~/anaconda3/envs/pipelineproj/lib/python3.10/site-packages/selenium/webdriver/remote/webdriver.py:856\u001b[0m, in \u001b[0;36mWebDriver.find_element\u001b[0;34m(self, by, value)\u001b[0m\n\u001b[1;32m    853\u001b[0m     by \u001b[39m=\u001b[39m By\u001b[39m.\u001b[39mCSS_SELECTOR\n\u001b[1;32m    854\u001b[0m     value \u001b[39m=\u001b[39m \u001b[39m'\u001b[39m\u001b[39m[name=\u001b[39m\u001b[39m\"\u001b[39m\u001b[39m%s\u001b[39;00m\u001b[39m\"\u001b[39m\u001b[39m]\u001b[39m\u001b[39m'\u001b[39m \u001b[39m%\u001b[39m value\n\u001b[0;32m--> 856\u001b[0m \u001b[39mreturn\u001b[39;00m \u001b[39mself\u001b[39;49m\u001b[39m.\u001b[39;49mexecute(Command\u001b[39m.\u001b[39;49mFIND_ELEMENT, {\n\u001b[1;32m    857\u001b[0m     \u001b[39m'\u001b[39;49m\u001b[39musing\u001b[39;49m\u001b[39m'\u001b[39;49m: by,\n\u001b[1;32m    858\u001b[0m     \u001b[39m'\u001b[39;49m\u001b[39mvalue\u001b[39;49m\u001b[39m'\u001b[39;49m: value})[\u001b[39m'\u001b[39m\u001b[39mvalue\u001b[39m\u001b[39m'\u001b[39m]\n",
      "File \u001b[0;32m~/anaconda3/envs/pipelineproj/lib/python3.10/site-packages/selenium/webdriver/remote/webdriver.py:434\u001b[0m, in \u001b[0;36mWebDriver.execute\u001b[0;34m(self, driver_command, params)\u001b[0m\n\u001b[1;32m    432\u001b[0m response \u001b[39m=\u001b[39m \u001b[39mself\u001b[39m\u001b[39m.\u001b[39mcommand_executor\u001b[39m.\u001b[39mexecute(driver_command, params)\n\u001b[1;32m    433\u001b[0m \u001b[39mif\u001b[39;00m response:\n\u001b[0;32m--> 434\u001b[0m     \u001b[39mself\u001b[39;49m\u001b[39m.\u001b[39;49merror_handler\u001b[39m.\u001b[39;49mcheck_response(response)\n\u001b[1;32m    435\u001b[0m     response[\u001b[39m'\u001b[39m\u001b[39mvalue\u001b[39m\u001b[39m'\u001b[39m] \u001b[39m=\u001b[39m \u001b[39mself\u001b[39m\u001b[39m.\u001b[39m_unwrap_value(\n\u001b[1;32m    436\u001b[0m         response\u001b[39m.\u001b[39mget(\u001b[39m'\u001b[39m\u001b[39mvalue\u001b[39m\u001b[39m'\u001b[39m, \u001b[39mNone\u001b[39;00m))\n\u001b[1;32m    437\u001b[0m     \u001b[39mreturn\u001b[39;00m response\n",
      "File \u001b[0;32m~/anaconda3/envs/pipelineproj/lib/python3.10/site-packages/selenium/webdriver/remote/errorhandler.py:243\u001b[0m, in \u001b[0;36mErrorHandler.check_response\u001b[0;34m(self, response)\u001b[0m\n\u001b[1;32m    241\u001b[0m         alert_text \u001b[39m=\u001b[39m value[\u001b[39m'\u001b[39m\u001b[39malert\u001b[39m\u001b[39m'\u001b[39m]\u001b[39m.\u001b[39mget(\u001b[39m'\u001b[39m\u001b[39mtext\u001b[39m\u001b[39m'\u001b[39m)\n\u001b[1;32m    242\u001b[0m     \u001b[39mraise\u001b[39;00m exception_class(message, screen, stacktrace, alert_text)  \u001b[39m# type: ignore[call-arg]  # mypy is not smart enough here\u001b[39;00m\n\u001b[0;32m--> 243\u001b[0m \u001b[39mraise\u001b[39;00m exception_class(message, screen, stacktrace)\n",
      "\u001b[0;31mNoSuchElementException\u001b[0m: Message: no such element: Unable to locate element: {\"method\":\"xpath\",\"selector\":\"//*[@id=\"search-results\"]/div[1]\"}\n  (Session info: chrome=104.0.5112.101)\nStacktrace:\n#0 0x5575741cd403 <unknown>\n#1 0x557573fd3778 <unknown>\n#2 0x55757400ac87 <unknown>\n#3 0x55757400ae51 <unknown>\n#4 0x55757403df24 <unknown>\n#5 0x557574028a2d <unknown>\n#6 0x55757403bc74 <unknown>\n#7 0x5575740288f3 <unknown>\n#8 0x557573ffe0d8 <unknown>\n#9 0x557573fff205 <unknown>\n#10 0x557574214e3d <unknown>\n#11 0x557574217db6 <unknown>\n#12 0x5575741fe13e <unknown>\n#13 0x5575742189b5 <unknown>\n#14 0x5575741f2970 <unknown>\n#15 0x557574235228 <unknown>\n#16 0x5575742353bf <unknown>\n#17 0x55757424fabe <unknown>\n#18 0x7f7e381f7ea7 <unknown>\n"
     ]
    }
   ],
   "source": [
    "products= target.driver.find_element(By.XPATH, '//*[@id=\"search-results\"]/div[1]')\n",
    "a_tag = products.find_element(By.TAG_NAME, 'a')\n",
    "link = a_tag.get_attribute('href')\n",
    "print(link)\n",
    "\n",
    "\n",
    "\n",
    "\n",
    "\n"
   ]
  },
  {
   "cell_type": "code",
   "execution_count": 4,
   "metadata": {},
   "outputs": [
    {
     "ename": "ElementNotInteractableException",
     "evalue": "Message: element not interactable\n  (Session info: chrome=104.0.5112.101)\nStacktrace:\n#0 0x56528509a403 <unknown>\n#1 0x565284ea064b <unknown>\n#2 0x565284ed8de7 <unknown>\n#3 0x565284ecce49 <unknown>\n#4 0x565284ef5a02 <unknown>\n#5 0x565284ecc703 <unknown>\n#6 0x565284ef5b0e <unknown>\n#7 0x565284f08c74 <unknown>\n#8 0x565284ef58f3 <unknown>\n#9 0x565284ecb0d8 <unknown>\n#10 0x565284ecc205 <unknown>\n#11 0x5652850e1e3d <unknown>\n#12 0x5652850e4db6 <unknown>\n#13 0x5652850cb13e <unknown>\n#14 0x5652850e59b5 <unknown>\n#15 0x5652850bf970 <unknown>\n#16 0x565285102228 <unknown>\n#17 0x5652851023bf <unknown>\n#18 0x56528511cabe <unknown>\n#19 0x7f79584ffea7 <unknown>\n",
     "output_type": "error",
     "traceback": [
      "\u001b[0;31m---------------------------------------------------------------------------\u001b[0m",
      "\u001b[0;31mElementNotInteractableException\u001b[0m           Traceback (most recent call last)",
      "\u001b[1;32m/home/juc-lesaint/Desktop/AIcore_PipeLine/utils/Scrapper.ipynb Cell 4\u001b[0m in \u001b[0;36m<cell line: 2>\u001b[0;34m()\u001b[0m\n\u001b[1;32m      <a href='vscode-notebook-cell:/home/juc-lesaint/Desktop/AIcore_PipeLine/utils/Scrapper.ipynb#X16sZmlsZQ%3D%3D?line=0'>1</a>\u001b[0m page_product \u001b[39m=\u001b[39m target\u001b[39m.\u001b[39mdriver\u001b[39m.\u001b[39mfind_element(By\u001b[39m.\u001b[39mXPATH, \u001b[39m'\u001b[39m\u001b[39m//ul[@data-tracking-label=\u001b[39m\u001b[39m\"\u001b[39m\u001b[39mproducts\u001b[39m\u001b[39m\"\u001b[39m\u001b[39m]\u001b[39m\u001b[39m'\u001b[39m)\n\u001b[0;32m----> <a href='vscode-notebook-cell:/home/juc-lesaint/Desktop/AIcore_PipeLine/utils/Scrapper.ipynb#X16sZmlsZQ%3D%3D?line=1'>2</a>\u001b[0m page_product\u001b[39m.\u001b[39;49mclick()\n",
      "File \u001b[0;32m~/anaconda3/envs/pipelineproj/lib/python3.10/site-packages/selenium/webdriver/remote/webelement.py:88\u001b[0m, in \u001b[0;36mWebElement.click\u001b[0;34m(self)\u001b[0m\n\u001b[1;32m     86\u001b[0m \u001b[39mdef\u001b[39;00m \u001b[39mclick\u001b[39m(\u001b[39mself\u001b[39m) \u001b[39m-\u001b[39m\u001b[39m>\u001b[39m \u001b[39mNone\u001b[39;00m:\n\u001b[1;32m     87\u001b[0m     \u001b[39m\"\"\"Clicks the element.\"\"\"\u001b[39;00m\n\u001b[0;32m---> 88\u001b[0m     \u001b[39mself\u001b[39;49m\u001b[39m.\u001b[39;49m_execute(Command\u001b[39m.\u001b[39;49mCLICK_ELEMENT)\n",
      "File \u001b[0;32m~/anaconda3/envs/pipelineproj/lib/python3.10/site-packages/selenium/webdriver/remote/webelement.py:396\u001b[0m, in \u001b[0;36mWebElement._execute\u001b[0;34m(self, command, params)\u001b[0m\n\u001b[1;32m    394\u001b[0m     params \u001b[39m=\u001b[39m {}\n\u001b[1;32m    395\u001b[0m params[\u001b[39m'\u001b[39m\u001b[39mid\u001b[39m\u001b[39m'\u001b[39m] \u001b[39m=\u001b[39m \u001b[39mself\u001b[39m\u001b[39m.\u001b[39m_id\n\u001b[0;32m--> 396\u001b[0m \u001b[39mreturn\u001b[39;00m \u001b[39mself\u001b[39;49m\u001b[39m.\u001b[39;49m_parent\u001b[39m.\u001b[39;49mexecute(command, params)\n",
      "File \u001b[0;32m~/anaconda3/envs/pipelineproj/lib/python3.10/site-packages/selenium/webdriver/remote/webdriver.py:434\u001b[0m, in \u001b[0;36mWebDriver.execute\u001b[0;34m(self, driver_command, params)\u001b[0m\n\u001b[1;32m    432\u001b[0m response \u001b[39m=\u001b[39m \u001b[39mself\u001b[39m\u001b[39m.\u001b[39mcommand_executor\u001b[39m.\u001b[39mexecute(driver_command, params)\n\u001b[1;32m    433\u001b[0m \u001b[39mif\u001b[39;00m response:\n\u001b[0;32m--> 434\u001b[0m     \u001b[39mself\u001b[39;49m\u001b[39m.\u001b[39;49merror_handler\u001b[39m.\u001b[39;49mcheck_response(response)\n\u001b[1;32m    435\u001b[0m     response[\u001b[39m'\u001b[39m\u001b[39mvalue\u001b[39m\u001b[39m'\u001b[39m] \u001b[39m=\u001b[39m \u001b[39mself\u001b[39m\u001b[39m.\u001b[39m_unwrap_value(\n\u001b[1;32m    436\u001b[0m         response\u001b[39m.\u001b[39mget(\u001b[39m'\u001b[39m\u001b[39mvalue\u001b[39m\u001b[39m'\u001b[39m, \u001b[39mNone\u001b[39;00m))\n\u001b[1;32m    437\u001b[0m     \u001b[39mreturn\u001b[39;00m response\n",
      "File \u001b[0;32m~/anaconda3/envs/pipelineproj/lib/python3.10/site-packages/selenium/webdriver/remote/errorhandler.py:243\u001b[0m, in \u001b[0;36mErrorHandler.check_response\u001b[0;34m(self, response)\u001b[0m\n\u001b[1;32m    241\u001b[0m         alert_text \u001b[39m=\u001b[39m value[\u001b[39m'\u001b[39m\u001b[39malert\u001b[39m\u001b[39m'\u001b[39m]\u001b[39m.\u001b[39mget(\u001b[39m'\u001b[39m\u001b[39mtext\u001b[39m\u001b[39m'\u001b[39m)\n\u001b[1;32m    242\u001b[0m     \u001b[39mraise\u001b[39;00m exception_class(message, screen, stacktrace, alert_text)  \u001b[39m# type: ignore[call-arg]  # mypy is not smart enough here\u001b[39;00m\n\u001b[0;32m--> 243\u001b[0m \u001b[39mraise\u001b[39;00m exception_class(message, screen, stacktrace)\n",
      "\u001b[0;31mElementNotInteractableException\u001b[0m: Message: element not interactable\n  (Session info: chrome=104.0.5112.101)\nStacktrace:\n#0 0x56528509a403 <unknown>\n#1 0x565284ea064b <unknown>\n#2 0x565284ed8de7 <unknown>\n#3 0x565284ecce49 <unknown>\n#4 0x565284ef5a02 <unknown>\n#5 0x565284ecc703 <unknown>\n#6 0x565284ef5b0e <unknown>\n#7 0x565284f08c74 <unknown>\n#8 0x565284ef58f3 <unknown>\n#9 0x565284ecb0d8 <unknown>\n#10 0x565284ecc205 <unknown>\n#11 0x5652850e1e3d <unknown>\n#12 0x5652850e4db6 <unknown>\n#13 0x5652850cb13e <unknown>\n#14 0x5652850e59b5 <unknown>\n#15 0x5652850bf970 <unknown>\n#16 0x565285102228 <unknown>\n#17 0x5652851023bf <unknown>\n#18 0x56528511cabe <unknown>\n#19 0x7f79584ffea7 <unknown>\n"
     ]
    }
   ],
   "source": [
    "page_product = target.driver.find_element(By.XPATH, '//ul[@data-tracking-label=\"products\"]')\n",
    "page_product.click()\n"
   ]
  },
  {
   "cell_type": "code",
   "execution_count": 4,
   "metadata": {},
   "outputs": [],
   "source": [
    "#go to furniture page\n",
    "furniture_category = target.driver.find_element(By.XPATH, '//*[@id=\"pub__carousel__6f52285c-c220-11ec-a3dd-0948e2821b2e\"]/div[1]/div/div/div')\n",
    "furniture_category.click()"
   ]
  },
  {
   "cell_type": "code",
   "execution_count": 30,
   "metadata": {},
   "outputs": [
    {
     "ename": "NoSuchElementException",
     "evalue": "Message: no such element: Unable to locate element: {\"method\":\"xpath\",\"selector\":\"//*[@id=\"pub__carousel__6f52285c-c220-11ec-a3dd-0948e2821b2e\"]/div[2]/div/div/div\"}\n  (Session info: chrome=104.0.5112.101)\nStacktrace:\n#0 0x564e55f4e403 <unknown>\n#1 0x564e55d54778 <unknown>\n#2 0x564e55d8bc87 <unknown>\n#3 0x564e55d8be51 <unknown>\n#4 0x564e55dbef24 <unknown>\n#5 0x564e55da9a2d <unknown>\n#6 0x564e55dbcc74 <unknown>\n#7 0x564e55da98f3 <unknown>\n#8 0x564e55d7f0d8 <unknown>\n#9 0x564e55d80205 <unknown>\n#10 0x564e55f95e3d <unknown>\n#11 0x564e55f98db6 <unknown>\n#12 0x564e55f7f13e <unknown>\n#13 0x564e55f999b5 <unknown>\n#14 0x564e55f73970 <unknown>\n#15 0x564e55fb6228 <unknown>\n#16 0x564e55fb63bf <unknown>\n#17 0x564e55fd0abe <unknown>\n#18 0x7fde8d42bea7 <unknown>\n",
     "output_type": "error",
     "traceback": [
      "\u001b[0;31m---------------------------------------------------------------------------\u001b[0m",
      "\u001b[0;31mNoSuchElementException\u001b[0m                    Traceback (most recent call last)",
      "\u001b[1;32m/home/juc-lesaint/Desktop/AIcore_PipeLine/utils/Scrapper.ipynb Cell 6\u001b[0m in \u001b[0;36m<cell line: 2>\u001b[0;34m()\u001b[0m\n\u001b[1;32m      <a href='vscode-notebook-cell:/home/juc-lesaint/Desktop/AIcore_PipeLine/utils/Scrapper.ipynb#W4sZmlsZQ%3D%3D?line=0'>1</a>\u001b[0m \u001b[39m#go to garden page\u001b[39;00m\n\u001b[0;32m----> <a href='vscode-notebook-cell:/home/juc-lesaint/Desktop/AIcore_PipeLine/utils/Scrapper.ipynb#W4sZmlsZQ%3D%3D?line=1'>2</a>\u001b[0m garden_category \u001b[39m=\u001b[39m target\u001b[39m.\u001b[39;49mdriver\u001b[39m.\u001b[39;49mfind_element(By\u001b[39m.\u001b[39;49mXPATH, \u001b[39m'\u001b[39;49m\u001b[39m//*[@id=\u001b[39;49m\u001b[39m\"\u001b[39;49m\u001b[39mpub__carousel__6f52285c-c220-11ec-a3dd-0948e2821b2e\u001b[39;49m\u001b[39m\"\u001b[39;49m\u001b[39m]/div[2]/div/div/div\u001b[39;49m\u001b[39m'\u001b[39;49m)\n\u001b[1;32m      <a href='vscode-notebook-cell:/home/juc-lesaint/Desktop/AIcore_PipeLine/utils/Scrapper.ipynb#W4sZmlsZQ%3D%3D?line=2'>3</a>\u001b[0m garden_category\u001b[39m.\u001b[39mclick()\n",
      "File \u001b[0;32m~/anaconda3/envs/pipelineproj/lib/python3.10/site-packages/selenium/webdriver/remote/webdriver.py:856\u001b[0m, in \u001b[0;36mWebDriver.find_element\u001b[0;34m(self, by, value)\u001b[0m\n\u001b[1;32m    853\u001b[0m     by \u001b[39m=\u001b[39m By\u001b[39m.\u001b[39mCSS_SELECTOR\n\u001b[1;32m    854\u001b[0m     value \u001b[39m=\u001b[39m \u001b[39m'\u001b[39m\u001b[39m[name=\u001b[39m\u001b[39m\"\u001b[39m\u001b[39m%s\u001b[39;00m\u001b[39m\"\u001b[39m\u001b[39m]\u001b[39m\u001b[39m'\u001b[39m \u001b[39m%\u001b[39m value\n\u001b[0;32m--> 856\u001b[0m \u001b[39mreturn\u001b[39;00m \u001b[39mself\u001b[39;49m\u001b[39m.\u001b[39;49mexecute(Command\u001b[39m.\u001b[39;49mFIND_ELEMENT, {\n\u001b[1;32m    857\u001b[0m     \u001b[39m'\u001b[39;49m\u001b[39musing\u001b[39;49m\u001b[39m'\u001b[39;49m: by,\n\u001b[1;32m    858\u001b[0m     \u001b[39m'\u001b[39;49m\u001b[39mvalue\u001b[39;49m\u001b[39m'\u001b[39;49m: value})[\u001b[39m'\u001b[39m\u001b[39mvalue\u001b[39m\u001b[39m'\u001b[39m]\n",
      "File \u001b[0;32m~/anaconda3/envs/pipelineproj/lib/python3.10/site-packages/selenium/webdriver/remote/webdriver.py:434\u001b[0m, in \u001b[0;36mWebDriver.execute\u001b[0;34m(self, driver_command, params)\u001b[0m\n\u001b[1;32m    432\u001b[0m response \u001b[39m=\u001b[39m \u001b[39mself\u001b[39m\u001b[39m.\u001b[39mcommand_executor\u001b[39m.\u001b[39mexecute(driver_command, params)\n\u001b[1;32m    433\u001b[0m \u001b[39mif\u001b[39;00m response:\n\u001b[0;32m--> 434\u001b[0m     \u001b[39mself\u001b[39;49m\u001b[39m.\u001b[39;49merror_handler\u001b[39m.\u001b[39;49mcheck_response(response)\n\u001b[1;32m    435\u001b[0m     response[\u001b[39m'\u001b[39m\u001b[39mvalue\u001b[39m\u001b[39m'\u001b[39m] \u001b[39m=\u001b[39m \u001b[39mself\u001b[39m\u001b[39m.\u001b[39m_unwrap_value(\n\u001b[1;32m    436\u001b[0m         response\u001b[39m.\u001b[39mget(\u001b[39m'\u001b[39m\u001b[39mvalue\u001b[39m\u001b[39m'\u001b[39m, \u001b[39mNone\u001b[39;00m))\n\u001b[1;32m    437\u001b[0m     \u001b[39mreturn\u001b[39;00m response\n",
      "File \u001b[0;32m~/anaconda3/envs/pipelineproj/lib/python3.10/site-packages/selenium/webdriver/remote/errorhandler.py:243\u001b[0m, in \u001b[0;36mErrorHandler.check_response\u001b[0;34m(self, response)\u001b[0m\n\u001b[1;32m    241\u001b[0m         alert_text \u001b[39m=\u001b[39m value[\u001b[39m'\u001b[39m\u001b[39malert\u001b[39m\u001b[39m'\u001b[39m]\u001b[39m.\u001b[39mget(\u001b[39m'\u001b[39m\u001b[39mtext\u001b[39m\u001b[39m'\u001b[39m)\n\u001b[1;32m    242\u001b[0m     \u001b[39mraise\u001b[39;00m exception_class(message, screen, stacktrace, alert_text)  \u001b[39m# type: ignore[call-arg]  # mypy is not smart enough here\u001b[39;00m\n\u001b[0;32m--> 243\u001b[0m \u001b[39mraise\u001b[39;00m exception_class(message, screen, stacktrace)\n",
      "\u001b[0;31mNoSuchElementException\u001b[0m: Message: no such element: Unable to locate element: {\"method\":\"xpath\",\"selector\":\"//*[@id=\"pub__carousel__6f52285c-c220-11ec-a3dd-0948e2821b2e\"]/div[2]/div/div/div\"}\n  (Session info: chrome=104.0.5112.101)\nStacktrace:\n#0 0x564e55f4e403 <unknown>\n#1 0x564e55d54778 <unknown>\n#2 0x564e55d8bc87 <unknown>\n#3 0x564e55d8be51 <unknown>\n#4 0x564e55dbef24 <unknown>\n#5 0x564e55da9a2d <unknown>\n#6 0x564e55dbcc74 <unknown>\n#7 0x564e55da98f3 <unknown>\n#8 0x564e55d7f0d8 <unknown>\n#9 0x564e55d80205 <unknown>\n#10 0x564e55f95e3d <unknown>\n#11 0x564e55f98db6 <unknown>\n#12 0x564e55f7f13e <unknown>\n#13 0x564e55f999b5 <unknown>\n#14 0x564e55f73970 <unknown>\n#15 0x564e55fb6228 <unknown>\n#16 0x564e55fb63bf <unknown>\n#17 0x564e55fd0abe <unknown>\n#18 0x7fde8d42bea7 <unknown>\n"
     ]
    }
   ],
   "source": [
    "#go to garden page\n",
    "garden_category = target.driver.find_element(By.XPATH, '//*[@id=\"pub__carousel__6f52285c-c220-11ec-a3dd-0948e2821b2e\"]/div[2]/div/div/div')\n",
    "garden_category.click()"
   ]
  },
  {
   "cell_type": "code",
   "execution_count": null,
   "metadata": {},
   "outputs": [],
   "source": [
    "\n"
   ]
  },
  {
   "cell_type": "code",
   "execution_count": 3,
   "metadata": {},
   "outputs": [
    {
     "name": "stdout",
     "output_type": "stream",
     "text": [
      "[<selenium.webdriver.remote.webelement.WebElement (session=\"2aa7e584eb9286db005d3d951fd6f666\", element=\"c645da63-501a-4d94-84ee-34a10e13e21b\")>, <selenium.webdriver.remote.webelement.WebElement (session=\"2aa7e584eb9286db005d3d951fd6f666\", element=\"9e5d62f7-eae4-48f3-857c-321e9e3e1d90\")>, <selenium.webdriver.remote.webelement.WebElement (session=\"2aa7e584eb9286db005d3d951fd6f666\", element=\"fa644d0d-79fa-40b3-b963-45a999b45d59\")>, <selenium.webdriver.remote.webelement.WebElement (session=\"2aa7e584eb9286db005d3d951fd6f666\", element=\"c0713230-00af-4f53-a7c6-86cead60441e\")>]\n",
      "['https://www.ikea.com/gb/en/cat/product-products/', 'https://www.ikea.com/gb/en/rooms/', 'https://www.ikea.com/gb/en/offers/?itm_content=Nav&itm_element=Top&itm_campaign=offers', 'https://www.ikea.com/gb/en/cat/everyday-essentials-700313/?itm_content=Nav&itm_element=Top&itm_campaign=EE']\n"
     ]
    }
   ],
   "source": [
    "#navigate on the available Ikea page links access --good\n",
    "page_nav = target.driver.find_element(By.XPATH, '//ul[@class=\"hnf-header__nav__main\"]')\n",
    "navs= page_nav.find_elements(By.XPATH,'./li')\n",
    "nav_list =[]\n",
    "print(navs)\n",
    "for link_nav in navs:\n",
    "    sub_nav = link_nav.find_element(By.TAG_NAME, 'a')\n",
    "    access_link = sub_nav.get_attribute('href')\n",
    "    nav_list.append(access_link)\n",
    "    \n",
    "print(nav_list)\n",
    "\n",
    "\n"
   ]
  },
  {
   "cell_type": "code",
   "execution_count": 14,
   "metadata": {},
   "outputs": [
    {
     "name": "stdout",
     "output_type": "stream",
     "text": [
      "there are 27 products available\n",
      "['https://www.ikea.com/gb/en/search/products/?group=IKEA%20Family%20Sale', 'https://www.ikea.com/gb/en/cat/furniture-fu001/', 'https://www.ikea.com/gb/en/new/', 'https://www.ikea.com/gb/en/cat/last-chance/', 'https://www.ikea.com/gb/en/product-guides/sustainable-products/', 'https://www.ikea.com/gb/en/rooms/everyday-essentials-pub0b043187', 'https://www.ikea.com/gb/en/rooms/living-room/how-to/growing-plants-made-easy-pubc6cc6cd3?itm_content=Nav&itm_element=Trending&itm_campaign=GHE', 'https://www.ikea.com/gb/en/cat/storage-organisation-st001/', 'https://www.ikea.com/gb/en/cat/furniture-fu001/', 'https://www.ikea.com/gb/en/cat/textiles-tl001/', 'https://www.ikea.com/gb/en/cat/outdoor-living-od001/', 'https://www.ikea.com/gb/en/cat/plants-plant-pots-pp001/', 'https://www.ikea.com/gb/en/cat/cookware-tableware-kt001/', 'https://www.ikea.com/gb/en/cat/lighting-li001/', 'https://www.ikea.com/gb/en/cat/kitchens-ka001/', 'https://www.ikea.com/gb/en/cat/decoration-de001/', 'https://www.ikea.com/gb/en/cat/bathroom-products-ba001/', 'https://www.ikea.com/gb/en/cat/baby-children-bc001/', 'https://www.ikea.com/gb/en/cat/beds-mattresses-bm001/', 'https://www.ikea.com/gb/en/#', 'https://www.ikea.com/gb/en/cat/home-electronics-he001/', 'https://www.ikea.com/gb/en/cat/smart-home-hs001/', 'https://www.ikea.com/gb/en/cat/rugs-mats-flooring-rm001/', 'https://www.ikea.com/gb/en/cat/working-from-home-700291/', 'https://www.ikea.com/gb/en/cat/laundry-cleaning-lc001/', 'https://www.ikea.com/gb/en/cat/home-improvement-hi001/', 'https://www.ikea.com/gb/en/cat/food-beverages-fb001/']\n",
      "there are 135 products available\n",
      "['https://www.ikea.com/gb/en/search/products/?group=IKEA%20Family%20Sale', 'https://www.ikea.com/gb/en/cat/furniture-fu001/', 'https://www.ikea.com/gb/en/new/', 'https://www.ikea.com/gb/en/cat/last-chance/', 'https://www.ikea.com/gb/en/product-guides/sustainable-products/', 'https://www.ikea.com/gb/en/rooms/everyday-essentials-pub0b043187', 'https://www.ikea.com/gb/en/rooms/living-room/how-to/growing-plants-made-easy-pubc6cc6cd3?itm_content=Nav&itm_element=Trending&itm_campaign=GHE', 'https://www.ikea.com/gb/en/cat/storage-organisation-st001/', 'https://www.ikea.com/gb/en/cat/furniture-fu001/', 'https://www.ikea.com/gb/en/cat/textiles-tl001/', 'https://www.ikea.com/gb/en/cat/outdoor-living-od001/', 'https://www.ikea.com/gb/en/cat/plants-plant-pots-pp001/', 'https://www.ikea.com/gb/en/cat/cookware-tableware-kt001/', 'https://www.ikea.com/gb/en/cat/lighting-li001/', 'https://www.ikea.com/gb/en/cat/kitchens-ka001/', 'https://www.ikea.com/gb/en/cat/decoration-de001/', 'https://www.ikea.com/gb/en/cat/bathroom-products-ba001/', 'https://www.ikea.com/gb/en/cat/baby-children-bc001/', 'https://www.ikea.com/gb/en/cat/beds-mattresses-bm001/', 'https://www.ikea.com/gb/en/#', 'https://www.ikea.com/gb/en/cat/home-electronics-he001/', 'https://www.ikea.com/gb/en/cat/smart-home-hs001/', 'https://www.ikea.com/gb/en/cat/rugs-mats-flooring-rm001/', 'https://www.ikea.com/gb/en/cat/working-from-home-700291/', 'https://www.ikea.com/gb/en/cat/laundry-cleaning-lc001/', 'https://www.ikea.com/gb/en/cat/home-improvement-hi001/', 'https://www.ikea.com/gb/en/cat/food-beverages-fb001/', 'https://www.ikea.com/gb/en/search/products/?group=IKEA%20Family%20Sale', 'https://www.ikea.com/gb/en/cat/furniture-fu001/', 'https://www.ikea.com/gb/en/new/', 'https://www.ikea.com/gb/en/cat/last-chance/', 'https://www.ikea.com/gb/en/product-guides/sustainable-products/', 'https://www.ikea.com/gb/en/rooms/everyday-essentials-pub0b043187', 'https://www.ikea.com/gb/en/rooms/living-room/how-to/growing-plants-made-easy-pubc6cc6cd3?itm_content=Nav&itm_element=Trending&itm_campaign=GHE', 'https://www.ikea.com/gb/en/cat/storage-organisation-st001/', 'https://www.ikea.com/gb/en/cat/furniture-fu001/', 'https://www.ikea.com/gb/en/cat/textiles-tl001/', 'https://www.ikea.com/gb/en/cat/outdoor-living-od001/', 'https://www.ikea.com/gb/en/cat/plants-plant-pots-pp001/', 'https://www.ikea.com/gb/en/cat/cookware-tableware-kt001/', 'https://www.ikea.com/gb/en/cat/lighting-li001/', 'https://www.ikea.com/gb/en/cat/kitchens-ka001/', 'https://www.ikea.com/gb/en/cat/decoration-de001/', 'https://www.ikea.com/gb/en/cat/bathroom-products-ba001/', 'https://www.ikea.com/gb/en/cat/baby-children-bc001/', 'https://www.ikea.com/gb/en/cat/beds-mattresses-bm001/', 'https://www.ikea.com/gb/en/#', 'https://www.ikea.com/gb/en/cat/home-electronics-he001/', 'https://www.ikea.com/gb/en/cat/smart-home-hs001/', 'https://www.ikea.com/gb/en/cat/rugs-mats-flooring-rm001/', 'https://www.ikea.com/gb/en/cat/working-from-home-700291/', 'https://www.ikea.com/gb/en/cat/laundry-cleaning-lc001/', 'https://www.ikea.com/gb/en/cat/home-improvement-hi001/', 'https://www.ikea.com/gb/en/cat/food-beverages-fb001/', 'https://www.ikea.com/gb/en/search/products/?group=IKEA%20Family%20Sale', 'https://www.ikea.com/gb/en/cat/furniture-fu001/', 'https://www.ikea.com/gb/en/new/', 'https://www.ikea.com/gb/en/cat/last-chance/', 'https://www.ikea.com/gb/en/product-guides/sustainable-products/', 'https://www.ikea.com/gb/en/rooms/everyday-essentials-pub0b043187', 'https://www.ikea.com/gb/en/rooms/living-room/how-to/growing-plants-made-easy-pubc6cc6cd3?itm_content=Nav&itm_element=Trending&itm_campaign=GHE', 'https://www.ikea.com/gb/en/cat/storage-organisation-st001/', 'https://www.ikea.com/gb/en/cat/furniture-fu001/', 'https://www.ikea.com/gb/en/cat/textiles-tl001/', 'https://www.ikea.com/gb/en/cat/outdoor-living-od001/', 'https://www.ikea.com/gb/en/cat/plants-plant-pots-pp001/', 'https://www.ikea.com/gb/en/cat/cookware-tableware-kt001/', 'https://www.ikea.com/gb/en/cat/lighting-li001/', 'https://www.ikea.com/gb/en/cat/kitchens-ka001/', 'https://www.ikea.com/gb/en/cat/decoration-de001/', 'https://www.ikea.com/gb/en/cat/bathroom-products-ba001/', 'https://www.ikea.com/gb/en/cat/baby-children-bc001/', 'https://www.ikea.com/gb/en/cat/beds-mattresses-bm001/', 'https://www.ikea.com/gb/en/#', 'https://www.ikea.com/gb/en/cat/home-electronics-he001/', 'https://www.ikea.com/gb/en/cat/smart-home-hs001/', 'https://www.ikea.com/gb/en/cat/rugs-mats-flooring-rm001/', 'https://www.ikea.com/gb/en/cat/working-from-home-700291/', 'https://www.ikea.com/gb/en/cat/laundry-cleaning-lc001/', 'https://www.ikea.com/gb/en/cat/home-improvement-hi001/', 'https://www.ikea.com/gb/en/cat/food-beverages-fb001/', 'https://www.ikea.com/gb/en/search/products/?group=IKEA%20Family%20Sale', 'https://www.ikea.com/gb/en/cat/furniture-fu001/', 'https://www.ikea.com/gb/en/new/', 'https://www.ikea.com/gb/en/cat/last-chance/', 'https://www.ikea.com/gb/en/product-guides/sustainable-products/', 'https://www.ikea.com/gb/en/rooms/everyday-essentials-pub0b043187', 'https://www.ikea.com/gb/en/rooms/living-room/how-to/growing-plants-made-easy-pubc6cc6cd3?itm_content=Nav&itm_element=Trending&itm_campaign=GHE', 'https://www.ikea.com/gb/en/cat/storage-organisation-st001/', 'https://www.ikea.com/gb/en/cat/furniture-fu001/', 'https://www.ikea.com/gb/en/cat/textiles-tl001/', 'https://www.ikea.com/gb/en/cat/outdoor-living-od001/', 'https://www.ikea.com/gb/en/cat/plants-plant-pots-pp001/', 'https://www.ikea.com/gb/en/cat/cookware-tableware-kt001/', 'https://www.ikea.com/gb/en/cat/lighting-li001/', 'https://www.ikea.com/gb/en/cat/kitchens-ka001/', 'https://www.ikea.com/gb/en/cat/decoration-de001/', 'https://www.ikea.com/gb/en/cat/bathroom-products-ba001/', 'https://www.ikea.com/gb/en/cat/baby-children-bc001/', 'https://www.ikea.com/gb/en/cat/beds-mattresses-bm001/', 'https://www.ikea.com/gb/en/#', 'https://www.ikea.com/gb/en/cat/home-electronics-he001/', 'https://www.ikea.com/gb/en/cat/smart-home-hs001/', 'https://www.ikea.com/gb/en/cat/rugs-mats-flooring-rm001/', 'https://www.ikea.com/gb/en/cat/working-from-home-700291/', 'https://www.ikea.com/gb/en/cat/laundry-cleaning-lc001/', 'https://www.ikea.com/gb/en/cat/home-improvement-hi001/', 'https://www.ikea.com/gb/en/cat/food-beverages-fb001/', 'https://www.ikea.com/gb/en/search/products/?group=IKEA%20Family%20Sale', 'https://www.ikea.com/gb/en/cat/furniture-fu001/', 'https://www.ikea.com/gb/en/new/', 'https://www.ikea.com/gb/en/cat/last-chance/', 'https://www.ikea.com/gb/en/product-guides/sustainable-products/', 'https://www.ikea.com/gb/en/rooms/everyday-essentials-pub0b043187', 'https://www.ikea.com/gb/en/rooms/living-room/how-to/growing-plants-made-easy-pubc6cc6cd3?itm_content=Nav&itm_element=Trending&itm_campaign=GHE', 'https://www.ikea.com/gb/en/cat/storage-organisation-st001/', 'https://www.ikea.com/gb/en/cat/furniture-fu001/', 'https://www.ikea.com/gb/en/cat/textiles-tl001/', 'https://www.ikea.com/gb/en/cat/outdoor-living-od001/', 'https://www.ikea.com/gb/en/cat/plants-plant-pots-pp001/', 'https://www.ikea.com/gb/en/cat/cookware-tableware-kt001/', 'https://www.ikea.com/gb/en/cat/lighting-li001/', 'https://www.ikea.com/gb/en/cat/kitchens-ka001/', 'https://www.ikea.com/gb/en/cat/decoration-de001/', 'https://www.ikea.com/gb/en/cat/bathroom-products-ba001/', 'https://www.ikea.com/gb/en/cat/baby-children-bc001/', 'https://www.ikea.com/gb/en/cat/beds-mattresses-bm001/', 'https://www.ikea.com/gb/en/#', 'https://www.ikea.com/gb/en/cat/home-electronics-he001/', 'https://www.ikea.com/gb/en/cat/smart-home-hs001/', 'https://www.ikea.com/gb/en/cat/rugs-mats-flooring-rm001/', 'https://www.ikea.com/gb/en/cat/working-from-home-700291/', 'https://www.ikea.com/gb/en/cat/laundry-cleaning-lc001/', 'https://www.ikea.com/gb/en/cat/home-improvement-hi001/', 'https://www.ikea.com/gb/en/cat/food-beverages-fb001/']\n"
     ]
    }
   ],
   "source": [
    "#display links of available webpages   good.\n",
    "containers = target.driver.find_element(By.XPATH, '//ul[@data-tracking-label=\"products\"]')\n",
    "\n",
    "\n",
    "\n",
    "time.sleep(1)\n",
    "product_list = containers.find_elements(By.XPATH, './li')\n",
    "menu_product_list =[]\n",
    "for x in product_list:\n",
    "    a_tag = x.find_element(By.TAG_NAME, 'a')\n",
    "    link = a_tag.get_attribute('href')\n",
    "    menu_product_list.append(link)\n",
    "print(f'there are {len(menu_product_list)} products available')\n",
    "print(menu_product_list)\n",
    "\n",
    "big_list =[]\n",
    "\n",
    "for i in range(5):\n",
    "    big_list.extend(menu_product_list)\n",
    "print(f'there are {len(big_list)} products available')\n",
    "print(big_list)\n",
    "\n",
    "    \n",
    "#for page in big_list:\n",
    "\n",
    "\n",
    "\n",
    "\n",
    "#sub_container = containers.find_element(By.XPATH, './span')\n",
    "#print(sub_container.text)\n",
    "\n"
   ]
  },
  {
   "cell_type": "code",
   "execution_count": null,
   "metadata": {},
   "outputs": [],
   "source": [
    "product_list = target.driver.find_element(By.XPATH, '//*[@id=\"search-results\"]')\n",
    "print(product_list)\n",
    "\n"
   ]
  },
  {
   "cell_type": "code",
   "execution_count": null,
   "metadata": {},
   "outputs": [],
   "source": []
  },
  {
   "cell_type": "code",
   "execution_count": null,
   "metadata": {},
   "outputs": [],
   "source": []
  },
  {
   "cell_type": "code",
   "execution_count": null,
   "metadata": {},
   "outputs": [],
   "source": []
  },
  {
   "cell_type": "code",
   "execution_count": null,
   "metadata": {},
   "outputs": [],
   "source": []
  }
 ],
 "metadata": {
  "kernelspec": {
   "display_name": "Python 3.10.4 ('pipelineproj')",
   "language": "python",
   "name": "python3"
  },
  "language_info": {
   "codemirror_mode": {
    "name": "ipython",
    "version": 3
   },
   "file_extension": ".py",
   "mimetype": "text/x-python",
   "name": "python",
   "nbconvert_exporter": "python",
   "pygments_lexer": "ipython3",
   "version": "3.10.4"
  },
  "orig_nbformat": 4,
  "vscode": {
   "interpreter": {
    "hash": "7a898363b9a8520275054d8f1adecf87bf6d9c52298a44091dd4a5fae49feb88"
   }
  }
 },
 "nbformat": 4,
 "nbformat_minor": 2
}
